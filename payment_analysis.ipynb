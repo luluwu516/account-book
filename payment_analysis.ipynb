{
 "cells": [
  {
   "cell_type": "markdown",
   "id": "dd5d9766-0048-46c2-ab6c-20b35309a0d9",
   "metadata": {},
   "source": [
    "### Analyze our shopping decisions\n",
    "\n",
    "The program analyzes the transactions recorded in the SQLite database with python.\n",
    "\n",
    "Recording transactions can help us understand our own financial status. And then, based on the account book, we can make better decisions.\n",
    "\n",
    "Here is an example of fake transaction records"
   ]
  },
  {
   "cell_type": "code",
   "execution_count": 1,
   "id": "06189636-1f6d-4d9a-b76c-42dc60f4a837",
   "metadata": {},
   "outputs": [],
   "source": [
    "# import the modules\n",
    "import numpy as np\n",
    "import pandas as pd\n",
    "import matplotlib.pyplot as plt\n",
    "import sqlite3\n",
    "import os"
   ]
  },
  {
   "cell_type": "code",
   "execution_count": 2,
   "id": "97662704-6f1f-4b8e-972b-230d320c6b36",
   "metadata": {},
   "outputs": [],
   "source": [
    "def get_dataframe(sql_syntax: str) -> pd.core.frame.DataFrame:\n",
    "    connection = sqlite3.connect('demo.db')\n",
    "    df = pd.read_sql(sql_syntax + \";\", connection)\n",
    "    connection.close()\n",
    "    return df"
   ]
  },
  {
   "cell_type": "code",
   "execution_count": 3,
   "id": "7dfea918-89f7-4eca-bdb6-e81877585754",
   "metadata": {},
   "outputs": [],
   "source": [
    "# Skip the payment of the credit card, and select Time (year and month), payee, and amount only\n",
    "credit_card_payment = \\\n",
    "f\"\"\"\n",
    "SELECT STRFTIME('%Y-%m', date) AS Time,\n",
    "       payee,\n",
    "       amount * (-1) AS amount_pay\n",
    "  FROM demo_table\n",
    " WHERE amount_pay > 0\n",
    " ORDER BY Time\n",
    "\"\"\""
   ]
  },
  {
   "cell_type": "code",
   "execution_count": 4,
   "id": "e9e27558-b460-4494-af49-f983ebf78acc",
   "metadata": {},
   "outputs": [],
   "source": [
    "# Group by time\n",
    "monthly_cost = \\\n",
    "f\"\"\"\n",
    "SELECT Time,\n",
    "       SUM(amount_pay) AS Sum\n",
    "  FROM ({credit_card_payment})\n",
    " GROUP BY Time\n",
    "\"\"\""
   ]
  },
  {
   "cell_type": "code",
   "execution_count": 5,
   "id": "d6743bfe-64d4-4ec2-9f36-647f5a499764",
   "metadata": {},
   "outputs": [],
   "source": [
    "# Analyze the specific month\n",
    "selected_time = '2025-04'\n",
    "\n",
    "# The user can customize the categories\n",
    "# The following is an example\n",
    "selected_month_payment = \\\n",
    "f\"\"\"\n",
    "SELECT CASE WHEN payee LIKE 'AMZN%' OR 'Amazon%' OR 'AMAZON%' THEN 'Online shopping'\n",
    "            WHEN payee LIKE 'CHEVRON%' OR 'ARCO%' THEN 'Traffic'\n",
    "            WHEN payee LIKE '%REGISTRATION%' THEN 'Education'\n",
    "            WHEN payee LIKE '99 RANCH%' OR 'H MART%' OR 'ALBERTSONS%' OR 'TRADER JOE%' OR 'MITSUWA' OR 'RALPHS%' OR 'COSTCO%' OR 'ZION%' THEN 'Market'\n",
    "            WHEN payee LIKE 'IKEA%' OR 'DAISO%' OR 'HOME%' OR '%HOME%' OR 'TJ MAX%' OR 'BED%' OR 'TARGET%' OR 'BEST BUY %' THEN 'Home'\n",
    "            WHEN payee LIKE 'CVS%' OR 'MED%' THEN 'Medical'\n",
    "            WHEN payee LIKE 'Uniqlo%' OR 'HOLLISTER%' OR 'NIKE%' OR 'H&M%' THEN 'Clothes'\n",
    "            WHEN payee LIKE 'Nintendo%' OR 'Microsoft%' OR 'MICROSOFT%' OR 'APPLE%' OR 'REI%' OR '%SPORT%' THEN 'Play'\n",
    "            WHEN payee LIKE '%TEA%' OR '%COFFEE%' OR '%Coffee%' OR '%BOBA%' THEN 'Drink'\n",
    "            WHEN payee LIKE 'USPS%' THEN 'Mail'\n",
    "            WHEN payee LIKE 'UBER EATS%' OR 'DOORDASH%' THEN 'Food delivery'\n",
    "            ELSE 'Other' END AS 'Category',\n",
    "       amount_pay\n",
    "  FROM ({credit_card_payment}) \n",
    " WHERE Time = '{selected_time}'\n",
    "\"\"\""
   ]
  },
  {
   "cell_type": "code",
   "execution_count": 6,
   "id": "dc63ab87-5651-483a-bfaf-1bcdf07ed7ef",
   "metadata": {},
   "outputs": [],
   "source": [
    "# Group by category we just created\n",
    "summary_of_selected_month_payment = \\\n",
    "f\"\"\"\n",
    "SELECT Category,\n",
    "       SUM(amount_pay) AS 'Sum'\n",
    "  FROM ({selected_month_payment})\n",
    " GROUP BY Category\n",
    "\"\"\""
   ]
  },
  {
   "cell_type": "code",
   "execution_count": 7,
   "id": "820995ea-9e96-4a0c-81fc-8cc3fce2a071",
   "metadata": {},
   "outputs": [
    {
     "data": {
      "text/html": [
       "<div>\n",
       "<style scoped>\n",
       "    .dataframe tbody tr th:only-of-type {\n",
       "        vertical-align: middle;\n",
       "    }\n",
       "\n",
       "    .dataframe tbody tr th {\n",
       "        vertical-align: top;\n",
       "    }\n",
       "\n",
       "    .dataframe thead th {\n",
       "        text-align: right;\n",
       "    }\n",
       "</style>\n",
       "<table border=\"1\" class=\"dataframe\">\n",
       "  <thead>\n",
       "    <tr style=\"text-align: right;\">\n",
       "      <th></th>\n",
       "      <th>Time</th>\n",
       "      <th>payee</th>\n",
       "      <th>amount_pay</th>\n",
       "    </tr>\n",
       "  </thead>\n",
       "  <tbody>\n",
       "    <tr>\n",
       "      <th>0</th>\n",
       "      <td>2025-03</td>\n",
       "      <td>Microsoft*Xbox Live Gold 425-6816830 WA</td>\n",
       "      <td>9.99</td>\n",
       "    </tr>\n",
       "    <tr>\n",
       "      <th>1</th>\n",
       "      <td>2025-04</td>\n",
       "      <td>APPLE.COM/BILL 866-712-7753 CA</td>\n",
       "      <td>9.99</td>\n",
       "    </tr>\n",
       "    <tr>\n",
       "      <th>2</th>\n",
       "      <td>2025-04</td>\n",
       "      <td>TARGET 00012385 IRVINE CA</td>\n",
       "      <td>43.58</td>\n",
       "    </tr>\n",
       "    <tr>\n",
       "      <th>3</th>\n",
       "      <td>2025-04</td>\n",
       "      <td>HOMEGOODS # 0728 IRVINE CA</td>\n",
       "      <td>64.64</td>\n",
       "    </tr>\n",
       "    <tr>\n",
       "      <th>4</th>\n",
       "      <td>2025-04</td>\n",
       "      <td>TRADER JOE'S #210 QPS IRVINE CA</td>\n",
       "      <td>38.23</td>\n",
       "    </tr>\n",
       "    <tr>\n",
       "      <th>5</th>\n",
       "      <td>2025-04</td>\n",
       "      <td>Uniqlo USA LLC New York NY</td>\n",
       "      <td>118.31</td>\n",
       "    </tr>\n",
       "    <tr>\n",
       "      <th>6</th>\n",
       "      <td>2025-04</td>\n",
       "      <td>Nintendo CD782790275 800-2553700 WA</td>\n",
       "      <td>7.99</td>\n",
       "    </tr>\n",
       "    <tr>\n",
       "      <th>7</th>\n",
       "      <td>2025-04</td>\n",
       "      <td>MITSUWA MRKTPLACE IR IRVINE CA</td>\n",
       "      <td>22.08</td>\n",
       "    </tr>\n",
       "  </tbody>\n",
       "</table>\n",
       "</div>"
      ],
      "text/plain": [
       "      Time                                    payee  amount_pay\n",
       "0  2025-03  Microsoft*Xbox Live Gold 425-6816830 WA        9.99\n",
       "1  2025-04           APPLE.COM/BILL 866-712-7753 CA        9.99\n",
       "2  2025-04                TARGET 00012385 IRVINE CA       43.58\n",
       "3  2025-04               HOMEGOODS # 0728 IRVINE CA       64.64\n",
       "4  2025-04          TRADER JOE'S #210 QPS IRVINE CA       38.23\n",
       "5  2025-04               Uniqlo USA LLC New York NY      118.31\n",
       "6  2025-04      Nintendo CD782790275 800-2553700 WA        7.99\n",
       "7  2025-04           MITSUWA MRKTPLACE IR IRVINE CA       22.08"
      ]
     },
     "execution_count": 7,
     "metadata": {},
     "output_type": "execute_result"
    }
   ],
   "source": [
    "get_dataframe(credit_card_payment)"
   ]
  },
  {
   "cell_type": "code",
   "execution_count": 8,
   "id": "e5927457-ff4a-440b-b0a1-3f790be16812",
   "metadata": {},
   "outputs": [
    {
     "data": {
      "text/html": [
       "<div>\n",
       "<style scoped>\n",
       "    .dataframe tbody tr th:only-of-type {\n",
       "        vertical-align: middle;\n",
       "    }\n",
       "\n",
       "    .dataframe tbody tr th {\n",
       "        vertical-align: top;\n",
       "    }\n",
       "\n",
       "    .dataframe thead th {\n",
       "        text-align: right;\n",
       "    }\n",
       "</style>\n",
       "<table border=\"1\" class=\"dataframe\">\n",
       "  <thead>\n",
       "    <tr style=\"text-align: right;\">\n",
       "      <th></th>\n",
       "      <th>Time</th>\n",
       "      <th>Sum</th>\n",
       "    </tr>\n",
       "  </thead>\n",
       "  <tbody>\n",
       "    <tr>\n",
       "      <th>0</th>\n",
       "      <td>2025-03</td>\n",
       "      <td>9.99</td>\n",
       "    </tr>\n",
       "    <tr>\n",
       "      <th>1</th>\n",
       "      <td>2025-04</td>\n",
       "      <td>304.82</td>\n",
       "    </tr>\n",
       "  </tbody>\n",
       "</table>\n",
       "</div>"
      ],
      "text/plain": [
       "      Time     Sum\n",
       "0  2025-03    9.99\n",
       "1  2025-04  304.82"
      ]
     },
     "execution_count": 8,
     "metadata": {},
     "output_type": "execute_result"
    }
   ],
   "source": [
    "get_dataframe(monthly_cost)"
   ]
  },
  {
   "cell_type": "code",
   "execution_count": 9,
   "id": "0d05e4cf-27cc-4f61-82a5-7cd5b70049e7",
   "metadata": {},
   "outputs": [
    {
     "data": {
      "text/html": [
       "<div>\n",
       "<style scoped>\n",
       "    .dataframe tbody tr th:only-of-type {\n",
       "        vertical-align: middle;\n",
       "    }\n",
       "\n",
       "    .dataframe tbody tr th {\n",
       "        vertical-align: top;\n",
       "    }\n",
       "\n",
       "    .dataframe thead th {\n",
       "        text-align: right;\n",
       "    }\n",
       "</style>\n",
       "<table border=\"1\" class=\"dataframe\">\n",
       "  <thead>\n",
       "    <tr style=\"text-align: right;\">\n",
       "      <th></th>\n",
       "      <th>Category</th>\n",
       "      <th>amount_pay</th>\n",
       "    </tr>\n",
       "  </thead>\n",
       "  <tbody>\n",
       "    <tr>\n",
       "      <th>0</th>\n",
       "      <td>Other</td>\n",
       "      <td>9.99</td>\n",
       "    </tr>\n",
       "    <tr>\n",
       "      <th>1</th>\n",
       "      <td>Other</td>\n",
       "      <td>43.58</td>\n",
       "    </tr>\n",
       "    <tr>\n",
       "      <th>2</th>\n",
       "      <td>Other</td>\n",
       "      <td>64.64</td>\n",
       "    </tr>\n",
       "    <tr>\n",
       "      <th>3</th>\n",
       "      <td>Other</td>\n",
       "      <td>38.23</td>\n",
       "    </tr>\n",
       "    <tr>\n",
       "      <th>4</th>\n",
       "      <td>Clothes</td>\n",
       "      <td>118.31</td>\n",
       "    </tr>\n",
       "    <tr>\n",
       "      <th>5</th>\n",
       "      <td>Play</td>\n",
       "      <td>7.99</td>\n",
       "    </tr>\n",
       "    <tr>\n",
       "      <th>6</th>\n",
       "      <td>Other</td>\n",
       "      <td>22.08</td>\n",
       "    </tr>\n",
       "  </tbody>\n",
       "</table>\n",
       "</div>"
      ],
      "text/plain": [
       "  Category  amount_pay\n",
       "0    Other        9.99\n",
       "1    Other       43.58\n",
       "2    Other       64.64\n",
       "3    Other       38.23\n",
       "4  Clothes      118.31\n",
       "5     Play        7.99\n",
       "6    Other       22.08"
      ]
     },
     "execution_count": 9,
     "metadata": {},
     "output_type": "execute_result"
    }
   ],
   "source": [
    "get_dataframe(selected_month_payment)"
   ]
  },
  {
   "cell_type": "code",
   "execution_count": 10,
   "id": "4d8b43c8-c50e-4d4d-9033-2c2e7da123e6",
   "metadata": {},
   "outputs": [
    {
     "name": "stdout",
     "output_type": "stream",
     "text": [
      "  Category     Sum\n",
      "0  Clothes  118.31\n",
      "1    Other  178.52\n",
      "2     Play    7.99 \n",
      "\n"
     ]
    },
    {
     "data": {
      "image/png": "[encoded data removed]",
      "text/plain": [
       "<Figure size 640x480 with 1 Axes>"
      ]
     },
     "metadata": {},
     "output_type": "display_data"
    }
   ],
   "source": [
    "# Visualize the result as an example.\n",
    "df = get_dataframe(summary_of_selected_month_payment)\n",
    "print(df, \"\\n\")\n",
    "\n",
    "category = df[\"Category\"].values\n",
    "amount = df[\"Sum\"].values\n",
    "x = np.arange(len(category))\n",
    "\n",
    "fig, ax = plt.subplots()\n",
    "ax.bar(category, amount)\n",
    "ax.set_title(selected_time)\n",
    "ax.set_xlabel(\"Category\")\n",
    "ax.set_ylabel(\"Amount ($)\")\n",
    "ax.set_ylim(0, 300)\n",
    "ax.text('Other', 200, f\"Highest cost: ${amount.max():.2f}\", horizontalalignment = 'center', color = 'blue')\n",
    "ax.tick_params(axis = 'x', rotation = 55)\n",
    "\n",
    "plt.show()"
   ]
  },
  {
   "cell_type": "code",
   "execution_count": null,
   "id": "9e629811-bcf3-4531-aef0-951f848c5242",
   "metadata": {},
   "outputs": [],
   "source": []
  },
  {
   "cell_type": "markdown",
   "id": "c6eb6a44-964a-4a40-be19-c903c2039bb8",
   "metadata": {},
   "source": [
    "### Incrediable Matplotlib\n",
    "\n",
    "Matplotlib can create so many different visualizations that you need; moreover, they can be useful for custom visualizations. Just visit their website and try it!\n",
    "\n",
    "https://matplotlib.org/stable/index.html"
   ]
  }
 ],
 "metadata": {
  "kernelspec": {
   "display_name": "Python 3 (ipykernel)",
   "language": "python",
   "name": "python3"
  },
  "language_info": {
   "codemirror_mode": {
    "name": "ipython",
    "version": 3
   },
   "file_extension": ".py",
   "mimetype": "text/x-python",
   "name": "python",
   "nbconvert_exporter": "python",
   "pygments_lexer": "ipython3",
   "version": "3.9.5"
  }
 },
 "nbformat": 4,
 "nbformat_minor": 5
}
