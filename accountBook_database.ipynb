{
 "cells": [
  {
   "cell_type": "markdown",
   "id": "e9b8c3e7-592b-480e-a3e2-38e063e6fb92",
   "metadata": {
    "tags": []
   },
   "source": [
    "### Create a SQLite database from CSVs with Python\n",
    "The program is for building a database in SQLite by importing csv files downloaded from Bank of America (BoA) with python. \n",
    "\n",
    "After moving into a new place, I want to set up an account book for self-review. I wrote a program to keep my books organized and up-to-date. All we need to do is to download the csv file of the latest statement to the \"boa\" folder in the same directory and run the program step by step. I hope it is helpful.\n",
    "\n",
    "\n",
    "\n",
    "Some reference:\n",
    "* https://mungingdata.com/sqlite/create-database-load-csv-python/, \n",
    "* https://www.projectpro.io/recipes/read-csv-data-from-local-system-and-replace-and-rename-columns"
   ]
  },
  {
   "cell_type": "code",
   "execution_count": 1,
   "id": "b0a6030c-b039-4677-a02e-991c0a02270e",
   "metadata": {},
   "outputs": [],
   "source": [
    "# import the modules\n",
    "import numpy as np\n",
    "import pandas as pd\n",
    "import sqlite3\n",
    "from sqlite3 import OperationalError\n",
    "import os\n",
    "\n",
    "months = [\"January\", \"February\", \"March\", \"April\", \"May\", \"June\", \"July\", \"August\", \"September\", \"October\", \"November\", \"December\"]"
   ]
  },
  {
   "cell_type": "code",
   "execution_count": 2,
   "id": "cfd842fc-5258-4150-9444-81632bce0f0f",
   "metadata": {},
   "outputs": [
    {
     "name": "stdin",
     "output_type": "stream",
     "text": [
      "Please enter the year:  2025\n",
      "Please enter the month (1-12):  4\n",
      "Please enter the last four digits of your credit card:  1234\n"
     ]
    },
    {
     "data": {
      "text/html": [
       "<div>\n",
       "<style scoped>\n",
       "    .dataframe tbody tr th:only-of-type {\n",
       "        vertical-align: middle;\n",
       "    }\n",
       "\n",
       "    .dataframe tbody tr th {\n",
       "        vertical-align: top;\n",
       "    }\n",
       "\n",
       "    .dataframe thead th {\n",
       "        text-align: right;\n",
       "    }\n",
       "</style>\n",
       "<table border=\"1\" class=\"dataframe\">\n",
       "  <thead>\n",
       "    <tr style=\"text-align: right;\">\n",
       "      <th></th>\n",
       "      <th>Posted Date</th>\n",
       "      <th>Reference Number</th>\n",
       "      <th>Payee</th>\n",
       "      <th>Address</th>\n",
       "      <th>Amount</th>\n",
       "    </tr>\n",
       "  </thead>\n",
       "  <tbody>\n",
       "    <tr>\n",
       "      <th>0</th>\n",
       "      <td>04/21/2025</td>\n",
       "      <td>12345678912345678912344</td>\n",
       "      <td>PAYMENT - THANK YOU</td>\n",
       "      <td>NaN</td>\n",
       "      <td>314.81</td>\n",
       "    </tr>\n",
       "    <tr>\n",
       "      <th>1</th>\n",
       "      <td>04/16/2025</td>\n",
       "      <td>12345678912345678912345</td>\n",
       "      <td>APPLE.COM/BILL 866-712-7753 CA</td>\n",
       "      <td>866-712-7753  CA</td>\n",
       "      <td>-9.99</td>\n",
       "    </tr>\n",
       "    <tr>\n",
       "      <th>2</th>\n",
       "      <td>04/12/2025</td>\n",
       "      <td>12345678912345678912346</td>\n",
       "      <td>TARGET 00012385 IRVINE CA</td>\n",
       "      <td>IRVINE        CA</td>\n",
       "      <td>-43.58</td>\n",
       "    </tr>\n",
       "    <tr>\n",
       "      <th>3</th>\n",
       "      <td>04/12/2025</td>\n",
       "      <td>12345678912345678912347</td>\n",
       "      <td>HOMEGOODS # 0728 IRVINE CA</td>\n",
       "      <td>IRVINE        CA</td>\n",
       "      <td>-64.64</td>\n",
       "    </tr>\n",
       "    <tr>\n",
       "      <th>4</th>\n",
       "      <td>04/09/2025</td>\n",
       "      <td>12345678912345678912348</td>\n",
       "      <td>TRADER JOE'S #210 QPS IRVINE CA</td>\n",
       "      <td>IRVINE        CA</td>\n",
       "      <td>-38.23</td>\n",
       "    </tr>\n",
       "  </tbody>\n",
       "</table>\n",
       "</div>"
      ],
      "text/plain": [
       "  Posted Date         Reference Number                            Payee  \\\n",
       "0  04/21/2025  12345678912345678912344              PAYMENT - THANK YOU   \n",
       "1  04/16/2025  12345678912345678912345   APPLE.COM/BILL 866-712-7753 CA   \n",
       "2  04/12/2025  12345678912345678912346        TARGET 00012385 IRVINE CA   \n",
       "3  04/12/2025  12345678912345678912347       HOMEGOODS # 0728 IRVINE CA   \n",
       "4  04/09/2025  12345678912345678912348  TRADER JOE'S #210 QPS IRVINE CA   \n",
       "\n",
       "             Address  Amount  \n",
       "0                NaN  314.81  \n",
       "1   866-712-7753  CA   -9.99  \n",
       "2  IRVINE        CA   -43.58  \n",
       "3  IRVINE        CA   -64.64  \n",
       "4  IRVINE        CA   -38.23  "
      ]
     },
     "execution_count": 2,
     "metadata": {},
     "output_type": "execute_result"
    }
   ],
   "source": [
    "# Import cvs files\n",
    "year = input(\"Please enter the year: \")\n",
    "month = int(input(\"Please enter the month (1-12): \"))\n",
    "card_4digits = input(\"Please enter the last four digits of your credit card: \")\n",
    "\n",
    "try:\n",
    "    files_dir = os.path.join(\"boa\")\n",
    "    filename = f\"{months[month - 1]}{year}_{card_4digits}.csv\"\n",
    "    df = pd.read_csv(os.path.join(files_dir, filename))\n",
    "except FileNotFoundError:\n",
    "    print(\"No such file or directory\")\n",
    "except IndexError:\n",
    "    print(\"Not valid month\")\n",
    "except:\n",
    "    print(\"Unknown error\")\n",
    "\n",
    "df.head()"
   ]
  },
  {
   "cell_type": "code",
   "execution_count": 3,
   "id": "3b11d443-2a04-469a-8680-f756c524b4e4",
   "metadata": {},
   "outputs": [
    {
     "data": {
      "text/html": [
       "<div>\n",
       "<style scoped>\n",
       "    .dataframe tbody tr th:only-of-type {\n",
       "        vertical-align: middle;\n",
       "    }\n",
       "\n",
       "    .dataframe tbody tr th {\n",
       "        vertical-align: top;\n",
       "    }\n",
       "\n",
       "    .dataframe thead th {\n",
       "        text-align: right;\n",
       "    }\n",
       "</style>\n",
       "<table border=\"1\" class=\"dataframe\">\n",
       "  <thead>\n",
       "    <tr style=\"text-align: right;\">\n",
       "      <th></th>\n",
       "      <th>date</th>\n",
       "      <th>number</th>\n",
       "      <th>payee</th>\n",
       "      <th>address</th>\n",
       "      <th>amount</th>\n",
       "    </tr>\n",
       "  </thead>\n",
       "  <tbody>\n",
       "    <tr>\n",
       "      <th>0</th>\n",
       "      <td>2025-04-21</td>\n",
       "      <td>12345678912345678912344</td>\n",
       "      <td>PAYMENT - THANK YOU</td>\n",
       "      <td>NaN</td>\n",
       "      <td>314.81</td>\n",
       "    </tr>\n",
       "    <tr>\n",
       "      <th>1</th>\n",
       "      <td>2025-04-16</td>\n",
       "      <td>12345678912345678912345</td>\n",
       "      <td>APPLE.COM/BILL 866-712-7753 CA</td>\n",
       "      <td>866-712-7753  CA</td>\n",
       "      <td>-9.99</td>\n",
       "    </tr>\n",
       "    <tr>\n",
       "      <th>2</th>\n",
       "      <td>2025-04-12</td>\n",
       "      <td>12345678912345678912346</td>\n",
       "      <td>TARGET 00012385 IRVINE CA</td>\n",
       "      <td>IRVINE        CA</td>\n",
       "      <td>-43.58</td>\n",
       "    </tr>\n",
       "    <tr>\n",
       "      <th>3</th>\n",
       "      <td>2025-04-12</td>\n",
       "      <td>12345678912345678912347</td>\n",
       "      <td>HOMEGOODS # 0728 IRVINE CA</td>\n",
       "      <td>IRVINE        CA</td>\n",
       "      <td>-64.64</td>\n",
       "    </tr>\n",
       "    <tr>\n",
       "      <th>4</th>\n",
       "      <td>2025-04-09</td>\n",
       "      <td>12345678912345678912348</td>\n",
       "      <td>TRADER JOE'S #210 QPS IRVINE CA</td>\n",
       "      <td>IRVINE        CA</td>\n",
       "      <td>-38.23</td>\n",
       "    </tr>\n",
       "  </tbody>\n",
       "</table>\n",
       "</div>"
      ],
      "text/plain": [
       "        date                   number                            payee  \\\n",
       "0 2025-04-21  12345678912345678912344              PAYMENT - THANK YOU   \n",
       "1 2025-04-16  12345678912345678912345   APPLE.COM/BILL 866-712-7753 CA   \n",
       "2 2025-04-12  12345678912345678912346        TARGET 00012385 IRVINE CA   \n",
       "3 2025-04-12  12345678912345678912347       HOMEGOODS # 0728 IRVINE CA   \n",
       "4 2025-04-09  12345678912345678912348  TRADER JOE'S #210 QPS IRVINE CA   \n",
       "\n",
       "             address  amount  \n",
       "0                NaN  314.81  \n",
       "1   866-712-7753  CA   -9.99  \n",
       "2  IRVINE        CA   -43.58  \n",
       "3  IRVINE        CA   -64.64  \n",
       "4  IRVINE        CA   -38.23  "
      ]
     },
     "execution_count": 3,
     "metadata": {},
     "output_type": "execute_result"
    }
   ],
   "source": [
    "# Rename the column: remove the space and name it simplly\n",
    "df = df.rename(columns = {\"Posted Date\": \"date\", \"Reference Number\": \"number\", \"Payee\": \"payee\", \"Address\": \"address\", \"Amount\": \"amount\"})\n",
    "\n",
    "# Change the format of date\n",
    "df['date'] = pd.to_datetime(df['date'])\n",
    "df.head()"
   ]
  },
  {
   "cell_type": "code",
   "execution_count": 4,
   "id": "901317be-1acb-4da4-b1f6-07953d3ed4c5",
   "metadata": {},
   "outputs": [
    {
     "data": {
      "text/plain": [
       "date       0\n",
       "number     0\n",
       "payee      0\n",
       "address    1\n",
       "amount     0\n",
       "dtype: int64"
      ]
     },
     "execution_count": 4,
     "metadata": {},
     "output_type": "execute_result"
    }
   ],
   "source": [
    "# Check for missing data\n",
    "df.isnull().sum()"
   ]
  },
  {
   "cell_type": "code",
   "execution_count": 5,
   "id": "dc2fda07-8f9b-4391-90d9-18922ce4e3f9",
   "metadata": {},
   "outputs": [
    {
     "data": {
      "text/plain": [
       "date       0\n",
       "number     0\n",
       "payee      0\n",
       "address    0\n",
       "amount     0\n",
       "dtype: int64"
      ]
     },
     "execution_count": 5,
     "metadata": {},
     "output_type": "execute_result"
    }
   ],
   "source": [
    "# Fill the missing data\n",
    "df.address = df.address.fillna(\"NO RECORD\")\n",
    "df.isnull().sum()"
   ]
  },
  {
   "cell_type": "code",
   "execution_count": 6,
   "id": "b4e2d957-3252-4a04-acc6-fa741137a4e8",
   "metadata": {},
   "outputs": [
    {
     "name": "stdin",
     "output_type": "stream",
     "text": [
      "Please enter the name of the database:  demo\n"
     ]
    }
   ],
   "source": [
    "# Connect or create to the database\n",
    "name_of_database = input(\"Please enter the name of the database: \")\n",
    "connection = sqlite3.connect(f\"{name_of_database}.db\")"
   ]
  },
  {
   "cell_type": "code",
   "execution_count": 7,
   "id": "fa1a82c4-bcb4-4ec4-bbb7-bc51831b1067",
   "metadata": {},
   "outputs": [
    {
     "name": "stdin",
     "output_type": "stream",
     "text": [
      "Please enter the name of the new table in the database:  demo_table\n"
     ]
    }
   ],
   "source": [
    "# Create a new table or if the table already exists, enter the name of the table\n",
    "name_of_new_table = input(\"Please enter the name of the new table in the database: \")\n",
    "\n",
    "try:\n",
    "    # Table Definition\n",
    "    new_table = f'''CREATE TABLE {name_of_new_table} (date TEXT, \n",
    "                                                      number TEXT, \n",
    "                                                      payee TEXT, \n",
    "                                                      address TEXT, \n",
    "                                                      amount REAL)'''\n",
    "    connection.execute(new_table)\n",
    "\n",
    "except OperationalError:  # import from sqlite3 modules\n",
    "    print(\"table already exists\")\n",
    "    \n",
    "except: \n",
    "    print(\"Unknow error\")"
   ]
  },
  {
   "cell_type": "code",
   "execution_count": 8,
   "id": "d72bf101-71fb-4b41-a3ad-b78869aaceaf",
   "metadata": {},
   "outputs": [],
   "source": [
    "df.to_sql(f\"{name_of_new_table}\", connection, if_exists = \"append\", index = False)\n",
    "connection.close()"
   ]
  },
  {
   "cell_type": "markdown",
   "id": "5624f103-aae9-4e54-bd7f-134f65e56a4d",
   "metadata": {},
   "source": [
    "### Check the update of database\n",
    "The above code completed building the database. The following is to make sure the data successfully update."
   ]
  },
  {
   "cell_type": "code",
   "execution_count": 9,
   "id": "fefd1d6e-62bd-4245-b570-1f99108c7f5b",
   "metadata": {},
   "outputs": [
    {
     "data": {
      "text/html": [
       "<div>\n",
       "<style scoped>\n",
       "    .dataframe tbody tr th:only-of-type {\n",
       "        vertical-align: middle;\n",
       "    }\n",
       "\n",
       "    .dataframe tbody tr th {\n",
       "        vertical-align: top;\n",
       "    }\n",
       "\n",
       "    .dataframe thead th {\n",
       "        text-align: right;\n",
       "    }\n",
       "</style>\n",
       "<table border=\"1\" class=\"dataframe\">\n",
       "  <thead>\n",
       "    <tr style=\"text-align: right;\">\n",
       "      <th></th>\n",
       "      <th>date</th>\n",
       "      <th>number</th>\n",
       "      <th>payee</th>\n",
       "      <th>address</th>\n",
       "      <th>amount</th>\n",
       "    </tr>\n",
       "  </thead>\n",
       "  <tbody>\n",
       "    <tr>\n",
       "      <th>4</th>\n",
       "      <td>2025-04-09 00:00:00</td>\n",
       "      <td>12345678912345678912348</td>\n",
       "      <td>TRADER JOE'S #210 QPS IRVINE CA</td>\n",
       "      <td>IRVINE        CA</td>\n",
       "      <td>-38.23</td>\n",
       "    </tr>\n",
       "    <tr>\n",
       "      <th>5</th>\n",
       "      <td>2025-04-09 00:00:00</td>\n",
       "      <td>12345678912345678912349</td>\n",
       "      <td>Uniqlo USA LLC New York NY</td>\n",
       "      <td>New York      NY</td>\n",
       "      <td>-118.31</td>\n",
       "    </tr>\n",
       "    <tr>\n",
       "      <th>6</th>\n",
       "      <td>2025-04-09 00:00:00</td>\n",
       "      <td>12345678912345678912350</td>\n",
       "      <td>Nintendo CD782790275 800-2553700 WA</td>\n",
       "      <td>800-2553700   WA</td>\n",
       "      <td>-7.99</td>\n",
       "    </tr>\n",
       "    <tr>\n",
       "      <th>7</th>\n",
       "      <td>2025-04-04 00:00:00</td>\n",
       "      <td>12345678912345678912351</td>\n",
       "      <td>MITSUWA MRKTPLACE IR IRVINE CA</td>\n",
       "      <td>IRVINE        CA</td>\n",
       "      <td>-22.08</td>\n",
       "    </tr>\n",
       "    <tr>\n",
       "      <th>8</th>\n",
       "      <td>2025-03-27 00:00:00</td>\n",
       "      <td>12345678912345678912352</td>\n",
       "      <td>Microsoft*Xbox Live Gold 425-6816830 WA</td>\n",
       "      <td>425-6816830   WA</td>\n",
       "      <td>-9.99</td>\n",
       "    </tr>\n",
       "  </tbody>\n",
       "</table>\n",
       "</div>"
      ],
      "text/plain": [
       "                  date                   number  \\\n",
       "4  2025-04-09 00:00:00  12345678912345678912348   \n",
       "5  2025-04-09 00:00:00  12345678912345678912349   \n",
       "6  2025-04-09 00:00:00  12345678912345678912350   \n",
       "7  2025-04-04 00:00:00  12345678912345678912351   \n",
       "8  2025-03-27 00:00:00  12345678912345678912352   \n",
       "\n",
       "                                     payee            address  amount  \n",
       "4          TRADER JOE'S #210 QPS IRVINE CA  IRVINE        CA   -38.23  \n",
       "5               Uniqlo USA LLC New York NY  New York      NY  -118.31  \n",
       "6      Nintendo CD782790275 800-2553700 WA   800-2553700   WA   -7.99  \n",
       "7           MITSUWA MRKTPLACE IR IRVINE CA  IRVINE        CA   -22.08  \n",
       "8  Microsoft*Xbox Live Gold 425-6816830 WA   425-6816830   WA   -9.99  "
      ]
     },
     "execution_count": 9,
     "metadata": {},
     "output_type": "execute_result"
    }
   ],
   "source": [
    "connection = sqlite3.connect(f\"{name_of_database}.db\")\n",
    "df2 = pd.read_sql(f'''SELECT * FROM {name_of_new_table}''', connection)\n",
    "connection.close()\n",
    "df2.tail()"
   ]
  },
  {
   "cell_type": "code",
   "execution_count": null,
   "id": "970e457d-d641-459c-bd05-ce9c9ec1e42f",
   "metadata": {},
   "outputs": [],
   "source": []
  }
 ],
 "metadata": {
  "kernelspec": {
   "display_name": "Python 3 (ipykernel)",
   "language": "python",
   "name": "python3"
  },
  "language_info": {
   "codemirror_mode": {
    "name": "ipython",
    "version": 3
   },
   "file_extension": ".py",
   "mimetype": "text/x-python",
   "name": "python",
   "nbconvert_exporter": "python",
   "pygments_lexer": "ipython3",
   "version": "3.9.5"
  }
 },
 "nbformat": 4,
 "nbformat_minor": 5
}
